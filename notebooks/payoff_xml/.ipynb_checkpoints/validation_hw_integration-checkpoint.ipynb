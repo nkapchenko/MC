{
 "cells": [
  {
   "cell_type": "code",
   "execution_count": 1,
   "metadata": {},
   "outputs": [],
   "source": [
    "from hw import hw_helper \n",
    "from numpy import array\n",
    "from fox_toolbox.utils import rates"
   ]
  },
  {
   "cell_type": "markdown",
   "metadata": {},
   "source": [
    "## This is validation of hw_integration in case the integrated function is NOT additive. (when it is, check validation_var_x.ipynb for example)"
   ]
  },
  {
   "cell_type": "code",
   "execution_count": 2,
   "metadata": {},
   "outputs": [],
   "source": [
    "a = 0.05\n",
    "sigma = rates.Curve(array([ 0.        ,  0.99726027, 30.99726027]), array([0.11615363, 0.11615363, 0.11615363]), 'PieceWise', '')"
   ]
  },
  {
   "cell_type": "code",
   "execution_count": 11,
   "metadata": {},
   "outputs": [
    {
     "name": "stderr",
     "output_type": "stream",
     "text": [
      "d:\\workspace\\perso\\github\\hw\\src\\hw\\hw_helper.py:71: UserWarning: Nikita: integrated function is not aditive. You can no longer reconcile values with flat sigma \n",
      "  warnings.warn(\"Nikita: integrated function is not aditive. You can no longer reconcile values with flat sigma \")\n"
     ]
    },
    {
     "data": {
      "text/plain": [
       "1.8338653262183007"
      ]
     },
     "execution_count": 11,
     "metadata": {},
     "output_type": "execute_result"
    }
   ],
   "source": [
    "T1 = sigma.buckets[ 0]\n",
    "T2 = sigma.buckets[-1]\n",
    "\n",
    "integral_func = lambda t1, t2 :hw_helper.integral_mT(t1, t2, T=t2, U=T2, a=a) # integral_mT - not addetive function\n",
    "hw_integral = hw_helper.hw_integrate(sigma, integral_func, T1=T1, T2=T2, a=a)\n",
    "hw_integral"
   ]
  },
  {
   "cell_type": "code",
   "execution_count": 6,
   "metadata": {},
   "outputs": [],
   "source": [
    "ts = array( [T1] + [t_ for t_ in sigma.buckets[  :-1 ] if T1 < t_ < T2]        )\n",
    "Ts = array(        [T_ for T_ in sigma.buckets[ 1:   ] if T1 < T_ < T2] + [T2] )\n",
    "sigmas2 = sigma.values[1:len(ts)+1]**2"
   ]
  },
  {
   "cell_type": "code",
   "execution_count": 12,
   "metadata": {},
   "outputs": [
    {
     "data": {
      "text/plain": [
       "1.8338653262183007"
      ]
     },
     "execution_count": 12,
     "metadata": {},
     "output_type": "execute_result"
    }
   ],
   "source": [
    "recon = 0\n",
    "for sig_i, ts_i, Ts_i in zip(sigma.values, ts, Ts):\n",
    "    recon += sig_i**2 * integral_func(ts_i, Ts_i)\n",
    "recon"
   ]
  },
  {
   "cell_type": "code",
   "execution_count": 15,
   "metadata": {},
   "outputs": [
    {
     "data": {
      "text/plain": [
       "0.0"
      ]
     },
     "execution_count": 15,
     "metadata": {},
     "output_type": "execute_result"
    }
   ],
   "source": [
    "hw_integral - recon"
   ]
  }
 ],
 "metadata": {
  "kernelspec": {
   "display_name": "Python 3",
   "language": "python",
   "name": "python3"
  },
  "language_info": {
   "codemirror_mode": {
    "name": "ipython",
    "version": 3
   },
   "file_extension": ".py",
   "mimetype": "text/x-python",
   "name": "python",
   "nbconvert_exporter": "python",
   "pygments_lexer": "ipython3",
   "version": "3.7.1"
  }
 },
 "nbformat": 4,
 "nbformat_minor": 4
}
